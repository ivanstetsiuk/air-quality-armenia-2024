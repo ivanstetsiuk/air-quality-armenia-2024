{
 "cells": [
  {
   "cell_type": "markdown",
   "metadata": {},
   "source": [
    "# Creating Database using SQL Lite"
   ]
  },
  {
   "cell_type": "code",
   "execution_count": 44,
   "metadata": {},
   "outputs": [
    {
     "name": "stdout",
     "output_type": "stream",
     "text": [
      "The sql extension is already loaded. To reload it, use:\n",
      "  %reload_ext sql\n"
     ]
    }
   ],
   "source": [
    "# Loading SQL extention\n",
    "%load_ext sql\n",
    "\n",
    "# Creating air_quality_armenia.db file\n",
    "%sql sqlite:///air_quality_armenia.db"
   ]
  },
  {
   "cell_type": "markdown",
   "metadata": {},
   "source": [
    "## Files description\n",
    "\n",
    "sensors.csv - Contains the list of sensors and their stations. Updated hourly.\n",
    "\n",
    "    id - unique sensor ID\n",
    "    station_id - station ID, several sensors can be located at the same station\n",
    "    city_slug - city of the sensor\n",
    "    district_slug - district of the sensor, can be empty\n",
    "    address_en - address in English\n",
    "    title - title of the sensor, can be empty\n",
    "    provider - sensor provider: sensor_community, yerevan_gis, purple_air, clarity.\n",
    "    external_id - sensor ID in the provider's system\n",
    "    sensor_type - sensor type: SDS011, BME280 or other\n",
    "    latitude\n",
    "    longitude\n",
    "    altitude - altitude in meters, can be empty\n",
    "    first_measurement_time - timestamp of the first measurement\n",
    "    last_measurement_time - timestamp of the last measurement\n",
    "    is_suspicious - true if the sensor data looks suspicious, false otherwise\n",
    "\n",
    "sensor_avg_daily.csv - Contains the daily average values of the sensors. Updated daily.\n",
    "\n",
    "    sensor_id - sensor ID\n",
    "    timestamp - date of the measurement in the format YYYY-MM-DD 00:00:00\n",
    "    avg_pm2.5 - average corrected PM2.5 value\n",
    "    avg_pm10 - average PM10 value\n",
    "    avg_temperature - average temperature in Celsius\n",
    "    avg_pressure - average pressure in Pa\n",
    "    avg_humidity - average humidity in percent\n",
    "\n",
    "station_avg_daily.csv - Contains the daily average values of the stations. Updated daily.\n",
    "\n",
    "    station_id - station ID\n",
    "    timestamp - date of the measurement in the format YYYY-MM-DD 00:00:00\n",
    "    avg_pm2.5 - average corrected PM2.5 value\n",
    "    avg_pm10 - average PM10 value\n",
    "    avg_temperature - average temperature in Celsius\n",
    "    avg_pressure - average pressure in Pa\n",
    "    avg_humidity - average humidity in percent\n",
    "\n",
    "sensor_avg_hourly/sensor_avg_hourly_{year}.csv\n",
    " - Contains the hourly average values of the sensors. Updated daily. Last file updated hourly.\n",
    "   Same format as sensor_avg_daily.csv.\n",
    "\n",
    "station_avg_hourly/station_avg_hourly_{year}.csv\n",
    " - Contains the hourly average values of the stations. Updated daily. Last file updated hourly.\n",
    "   Same format as station_avg_daily.csv.\n",
    "\n",
    "measurements/measurements_{year}_{month}.csv\n",
    " - Contains the raw measurements of the sensors. Updated daily. Last file updated hourly.\n",
    "\n",
    "    sensor_id - sensor ID\n",
    "    timestamp - date of the measurement in the format YYYY-MM-DD HH:MM:SS\n",
    "    time_start - start of the measurement period in the format YYYY-MM-DD HH:MM:SS (for average values)\n",
    "    time_end - end of the measurement period in the format YYYY-MM-DD HH:MM:SS (for average values)\n",
    "    pm2.5 - raw PM2.5 value\n",
    "    pm2.5_corrected - corrected PM2.5 value\n",
    "    pm10 - raw PM10 value\n",
    "    temperature - temperature in Celsius\n",
    "    pressure - pressure in Pa\n",
    "    humidity - humidity in percent"
   ]
  },
  {
   "cell_type": "markdown",
   "metadata": {},
   "source": [
    "## Creating database from csv files using SQL Lite"
   ]
  },
  {
   "cell_type": "code",
   "execution_count": 45,
   "metadata": {},
   "outputs": [
    {
     "name": "stdout",
     "output_type": "stream",
     "text": [
      "Database created and data loaded successfully!\n"
     ]
    }
   ],
   "source": [
    "import pandas as pd\n",
    "import sqlite3\n",
    "\n",
    "# Create connection to SQLite database\n",
    "conn = sqlite3.connect('air_quality_armenia.db')\n",
    "\n",
    "try:\n",
    "    # Load sensors.csv\n",
    "    sensors_df = pd.read_csv('sensors.csv')\n",
    "    sensors_df.to_sql('sensors', conn, if_exists='replace', index=False)\n",
    "    \n",
    "    # Load sensor_avg_daily.csv\n",
    "    sensor_daily_df = pd.read_csv('sensor_avg_daily.csv')\n",
    "    sensor_daily_df.to_sql('sensor_avg_daily', conn, if_exists='replace', index=False)\n",
    "    \n",
    "    # Load station_avg_daily.csv\n",
    "    station_daily_df = pd.read_csv('station_avg_daily.csv')\n",
    "    station_daily_df.to_sql('station_avg_daily', conn, if_exists='replace', index=False)\n",
    "    \n",
    "    # Load hourly data (example for 2024)\n",
    "    sensor_hourly_df = pd.read_csv('sensor_avg_hourly_2024.csv')\n",
    "    sensor_hourly_df.to_sql('sensor_avg_hourly_2024', conn, if_exists='replace', index=False)\n",
    "    \n",
    "    station_hourly_df = pd.read_csv('station_avg_hourly_2024.csv')\n",
    "    station_hourly_df.to_sql('station_avg_hourly_2024', conn, if_exists='replace', index=False)\n",
    "\n",
    "    print(\"Database created and data loaded successfully!\")\n",
    "finally:\n",
    "    # Close the connection\n",
    "    conn.close()"
   ]
  },
  {
   "cell_type": "code",
   "execution_count": 57,
   "metadata": {},
   "outputs": [
    {
     "data": {
      "text/html": [
       "<div>\n",
       "<style scoped>\n",
       "    .dataframe tbody tr th:only-of-type {\n",
       "        vertical-align: middle;\n",
       "    }\n",
       "\n",
       "    .dataframe tbody tr th {\n",
       "        vertical-align: top;\n",
       "    }\n",
       "\n",
       "    .dataframe thead th {\n",
       "        text-align: right;\n",
       "    }\n",
       "</style>\n",
       "<table border=\"1\" class=\"dataframe\">\n",
       "  <thead>\n",
       "    <tr style=\"text-align: right;\">\n",
       "      <th></th>\n",
       "      <th>day</th>\n",
       "      <th>city</th>\n",
       "      <th>avg_pm2.5_daily</th>\n",
       "    </tr>\n",
       "  </thead>\n",
       "  <tbody>\n",
       "    <tr>\n",
       "      <th>0</th>\n",
       "      <td>2024-01-01</td>\n",
       "      <td>yerevan</td>\n",
       "      <td>57.438624</td>\n",
       "    </tr>\n",
       "    <tr>\n",
       "      <th>1</th>\n",
       "      <td>2024-01-02</td>\n",
       "      <td>yerevan</td>\n",
       "      <td>54.354692</td>\n",
       "    </tr>\n",
       "    <tr>\n",
       "      <th>2</th>\n",
       "      <td>2024-01-03</td>\n",
       "      <td>yerevan</td>\n",
       "      <td>56.676744</td>\n",
       "    </tr>\n",
       "    <tr>\n",
       "      <th>3</th>\n",
       "      <td>2024-01-04</td>\n",
       "      <td>yerevan</td>\n",
       "      <td>39.712145</td>\n",
       "    </tr>\n",
       "    <tr>\n",
       "      <th>4</th>\n",
       "      <td>2024-01-05</td>\n",
       "      <td>yerevan</td>\n",
       "      <td>29.708010</td>\n",
       "    </tr>\n",
       "  </tbody>\n",
       "</table>\n",
       "</div>"
      ],
      "text/plain": [
       "          day     city  avg_pm2.5_daily\n",
       "0  2024-01-01  yerevan        57.438624\n",
       "1  2024-01-02  yerevan        54.354692\n",
       "2  2024-01-03  yerevan        56.676744\n",
       "3  2024-01-04  yerevan        39.712145\n",
       "4  2024-01-05  yerevan        29.708010"
      ]
     },
     "execution_count": 57,
     "metadata": {},
     "output_type": "execute_result"
    }
   ],
   "source": [
    "# Connect to the database\n",
    "conn = sqlite3.connect('air_quality_armenia.db')\n",
    "\n",
    "query = \"\"\"\n",
    "SELECT strftime('%Y-%m-%d', timestamp) AS day\n",
    "     , city_slug as city\n",
    "     , AVG(\"pm2.5\") AS \"avg_pm2.5_daily\"\n",
    "FROM sensor_avg_hourly_2024\n",
    "    JOIN sensors on sensor_avg_hourly_2024.sensor_id = sensors.id\n",
    "WHERE city_slug = 'yerevan'\n",
    "  AND is_suspicious = 0\n",
    "GROUP BY day, city\n",
    "ORDER BY day, city\n",
    "\"\"\"\n",
    "armenia_2024_daily = pd.read_sql_query(query, conn)\n",
    "\n",
    "conn.close()\n",
    "\n",
    "armenia_2024_daily.head()"
   ]
  }
 ],
 "metadata": {
  "kernelspec": {
   "display_name": "Python 3",
   "language": "python",
   "name": "python3"
  },
  "language_info": {
   "codemirror_mode": {
    "name": "ipython",
    "version": 3
   },
   "file_extension": ".py",
   "mimetype": "text/x-python",
   "name": "python",
   "nbconvert_exporter": "python",
   "pygments_lexer": "ipython3",
   "version": "3.8.10"
  }
 },
 "nbformat": 4,
 "nbformat_minor": 2
}
